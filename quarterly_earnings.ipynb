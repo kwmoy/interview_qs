{
 "cells": [
  {
   "cell_type": "markdown",
   "metadata": {},
   "source": [
    "### Interview Qs: Quarterly Earnings Calculator\n",
    "Prompt: Suppose a company is taxed 20% if earnings for a given quarter are > = $3M USD.\n",
    "\n",
    "\n",
    "    \n",
    "    \n",
    "If earnings land < $3M USD for the quarter, the company is taxed at a lower rate of 15%.\n",
    "\n",
    "\n",
    "    \n",
    "    \n",
    "Write a function using Python to calculate both the pre-tax and post-tax earnings for a given company, with the ability to feed in the # of widgets sold as well as the average price of the widget as inputs (# of widgets sold * avg. price of widgets = total earnings in this case).\n",
    "\n",
    "\n",
    "    \n",
    "    \n",
    "For example, if the company sells 20,000 widgets at an average price of $220 USD then your function should return:\n",
    "\n",
    "\n",
    "    \n",
    "    \n",
    "\n",
    "    \n",
    "Pre-tax earnings were 20,000*220 = 4.4M for the quarter.\n",
    "\n",
    "    \n",
    "Post-tax earnings were 3.52M for the quarter [4.4M *.8 (since we fall in higher 20 percent tax bracket here)]"
   ]
  },
  {
   "cell_type": "code",
   "execution_count": 1,
   "metadata": {},
   "outputs": [],
   "source": [
    "# define tax rates and cutoff\n",
    "tax_threshold = 3000000\n",
    "low_tax = 0.15\n",
    "high_tax = 0.20"
   ]
  },
  {
   "cell_type": "markdown",
   "metadata": {},
   "source": [
    "### Define a function to calculate pre-tax and post-tax earnings"
   ]
  },
  {
   "cell_type": "code",
   "execution_count": 9,
   "metadata": {},
   "outputs": [],
   "source": [
    "def tax_calculator(widgets_sold, widget_price):\n",
    "    # determine pre-tax earnings\n",
    "    qtr_pretax_earnings = widgets_sold*widget_price\n",
    "    print(f'Pre-tax earnings were {widgets_sold}*{widget_price} = ${qtr_pretax_earnings} for the quarter')\n",
    "    \n",
    "    if qtr_pretax_earnings >= tax_threshold:\n",
    "        qtr_posttax_earnings = qtr_pretax_earnings*(1-high_tax)\n",
    "        print(f'Post-tax earnings were ${qtr_posttax_earnings} for the quarter {qtr_pretax_earnings}*{1-high_tax} (since we fall in a higher {high_tax*100} percent tax bracket here')\n",
    "        \n",
    "    else: \n",
    "        qtr_posttax_earnings = qtr_pretax_earnings*(1-low_tax)\n",
    "        print(f'Post-tax earnings were ${qtr_posttax_earnings} for the quarter {qtr_pretax_earnings}*{1-low_tax} (since we fall in a lower {low_tax*100} percent tax bracket here)')\n",
    "    "
   ]
  },
  {
   "cell_type": "code",
   "execution_count": 11,
   "metadata": {},
   "outputs": [
    {
     "name": "stdout",
     "output_type": "stream",
     "text": [
      "Pre-tax earnings were 10*10 = $100 for the quarter\n",
      "Post-tax earnings were $85.0 for the quarter 100*0.85 (since we fall in a lower 15.0 percent tax bracket here)\n"
     ]
    }
   ],
   "source": [
    "# test for small company\n",
    "tax_calculator(10,10)"
   ]
  },
  {
   "cell_type": "code",
   "execution_count": 12,
   "metadata": {},
   "outputs": [
    {
     "name": "stdout",
     "output_type": "stream",
     "text": [
      "Pre-tax earnings were 10000000*100 = $1000000000 for the quarter\n",
      "Post-tax earnings were $800000000.0 for the quarter 1000000000*0.8 (since we fall in a higher 20.0 percent tax bracket here\n"
     ]
    }
   ],
   "source": [
    "# test for large company\n",
    "tax_calculator(10000000,100)"
   ]
  },
  {
   "cell_type": "code",
   "execution_count": null,
   "metadata": {},
   "outputs": [],
   "source": []
  }
 ],
 "metadata": {
  "kernelspec": {
   "display_name": "Python 3",
   "language": "python",
   "name": "python3"
  },
  "language_info": {
   "codemirror_mode": {
    "name": "ipython",
    "version": 3
   },
   "file_extension": ".py",
   "mimetype": "text/x-python",
   "name": "python",
   "nbconvert_exporter": "python",
   "pygments_lexer": "ipython3",
   "version": "3.7.7"
  }
 },
 "nbformat": 4,
 "nbformat_minor": 4
}
